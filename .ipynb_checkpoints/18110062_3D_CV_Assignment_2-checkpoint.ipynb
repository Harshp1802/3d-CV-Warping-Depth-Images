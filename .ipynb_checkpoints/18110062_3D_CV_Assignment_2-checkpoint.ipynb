{
 "cells": [
  {
   "cell_type": "code",
   "execution_count": 1,
   "metadata": {
    "id": "D680Bt01VS0N"
   },
   "outputs": [],
   "source": [
    "# Importing necessary Libraries\n",
    "import cv2\n",
    "import numpy as np\n",
    "import matplotlib.pyplot as plt\n",
    "from tqdm import tqdm\n",
    "from collections import defaultdict"
   ]
  },
  {
   "cell_type": "code",
   "execution_count": 2,
   "metadata": {},
   "outputs": [],
   "source": [
    "#____________ Choose the Images Dataset numer for stitching the images _____________#\n",
    "#######################\n",
    "Image_Dataset_No = \"000000029\"\n",
    "# <----- from [\"000000029\", \"000000292\", \"000000705\", \"000001524\", \"000002812\", \"000003345\"]\n",
    "#######################\n",
    "\n",
    "#____________ Choose if want to use in-built functions or not  _____________#\n",
    "#######################\n",
    "in_built = False       # <-----\n",
    "#######################\n",
    "\n",
    "#____________ Choose the np. of depth levels  _____________#\n",
    "#######################\n",
    "depth_levels = 11       # <-----\n",
    "#######################\n",
    "\n",
    "\n",
    "flag = \"\"\n",
    "if(in_built==True):\n",
    "    flag = \"_in_built\""
   ]
  },
  {
   "cell_type": "markdown",
   "metadata": {},
   "source": [
    "## Helper Functions:\n",
    "#### A) Detect and extract key features from a given image:"
   ]
  },
  {
   "cell_type": "code",
   "execution_count": 3,
   "metadata": {},
   "outputs": [],
   "source": [
    "def detect_and_extract_features(I):\n",
    "    #_____ Using SIFT Algorithm from the in-built cv2 library\n",
    "    sift_algo = cv2.xfeatures2d.SIFT_create()\n",
    "    features, f_descriptors = sift_algo.detectAndCompute(I, None)\n",
    "    return features, f_descriptors"
   ]
  },
  {
   "cell_type": "markdown",
   "metadata": {},
   "source": [
    "#### B) Feature Matching [Simple Brute Force Method] "
   ]
  },
  {
   "cell_type": "code",
   "execution_count": 4,
   "metadata": {},
   "outputs": [],
   "source": [
    "def match_features(f1, f2, d1, d2, I1, I2):\n",
    "    #_____ Using Brute Force Matching Algo from the in-built cv2 library that matches the features from the given two images\n",
    "    matching_algo = cv2.BFMatcher(cv2.NORM_L2, True)\n",
    "    matchings = matching_algo.match(d1, d2)\n",
    "    # matchings_sort = sorted(matchings, key = lambda x:x.distance)\n",
    "    # match_I = cv2.drawMatches(I1,f1,I2,f2,matchings_sort[:50],outImg = None, flags=2)\n",
    "    # cv2.imwrite('Matches_I1_I2.png', match_I)\n",
    "    return matchings"
   ]
  },
  {
   "cell_type": "markdown",
   "metadata": {},
   "source": [
    "#### C) Homography Matrix Calculation using Best Point Correspondences"
   ]
  },
  {
   "cell_type": "code",
   "execution_count": 5,
   "metadata": {},
   "outputs": [],
   "source": [
    "def find_homography(point_correspondences):\n",
    "    #___ Creating a transformation matrix that will stitch the given 3 images based on their point_correspondences\n",
    "    # Implementation of the Direct Linear Transformation\n",
    "    A = [] # Assemble\n",
    "    for points in point_correspondences:\n",
    "        x1, y1, x2, y2 = points\n",
    "        A.append([x1, y1, 1, 0, 0, 0, -x2*x1, -x2*y1, -x2])\n",
    "        A.append([0, 0, 0, x1, y1, 1, -y2*x1, -y2*y1, -y2])        \n",
    "    A = np.asarray(A)\n",
    "    U, E, Vt = np.linalg.svd(A) # Using Singular Value Decomposition to find the tranformation vector [Last column of Vt]\n",
    "    H = (Vt[-1,:] / Vt[-1,-1]).reshape(3, 3) # Normalization\n",
    "    return H # 3*3 Homography Transformation Matrix"
   ]
  },
  {
   "cell_type": "markdown",
   "metadata": {},
   "source": [
    "#### D) Using RANSAC (RANdom SAmple Consensus) Algorithm that best fits the Feature matchings of two images\n",
    "- Focuses largely on the Inliners"
   ]
  },
  {
   "cell_type": "code",
   "execution_count": 6,
   "metadata": {},
   "outputs": [],
   "source": [
    "def ransac_algo(point_correspondences, threshold, N=500):\n",
    "    maxInliers = [] # Stores the maximum Inliers\n",
    "    Homography_matrix = None\n",
    "    \n",
    "    # Run this for multiple iterations to find the best line fit that has maximum no. of inliers\n",
    "    for i in range(N):\n",
    "        # Randomly select 4 points to estimate a fit line\n",
    "        indices = np.random.choice(range(len(point_correspondences)),4, replace = False)\n",
    "        points = map(point_correspondences.__getitem__, indices) \n",
    "        H = find_homography(points)\n",
    "        inliers = [] # To calculate the no. of inliners using this fit\n",
    "        for points in point_correspondences:\n",
    "            x1, y1, x2, y2 = points\n",
    "            vector1 = np.asarray([x1, y1, 1]).T\n",
    "            transformed_vector = H.dot(vector1) # Find the tranformed vector\n",
    "            try:\n",
    "                transformed_vector /= transformed_vector[-1] #Normalization\n",
    "            except Exception as e:\n",
    "                print(e)\n",
    "                print(transformed_vector)\n",
    "            vector2 = np.asarray([x2,y2,1])\n",
    "            # Inlier if the point lies very close inside the threshold area.\n",
    "            if(np.linalg.norm(transformed_vector-vector2)<=threshold):\n",
    "                inliers.append(points)\n",
    "        if(len(inliers) > len(maxInliers)):\n",
    "            maxInliers = inliers\n",
    "            Homography_matrix = H\n",
    "    # return the best estimated homography matrix\n",
    "    return Homography_matrix, maxInliers"
   ]
  },
  {
   "cell_type": "markdown",
   "metadata": {},
   "source": [
    "## Main Function:\n",
    "#### Process:\n",
    "    - Detect and Extract Features from both the Images\n",
    "    - Feature Matching and Homography Matrix estimation using RANSAC"
   ]
  },
  {
   "cell_type": "code",
   "execution_count": 7,
   "metadata": {},
   "outputs": [],
   "source": [
    "def main(I1,I2, in_built, quantized, helper, full=False ):\n",
    "    f1,d1 = detect_and_extract_features(I1) # For image-1\n",
    "    print(\"No. of features extracted using SIFT from Ia: {}\".format(len(f1)))\n",
    "    f2,d2 = detect_and_extract_features(I2) # For image-2\n",
    "    print(\"No. of features extracted using SIFT from Ib: {}\".format(len(f2)))\n",
    "    matchings = match_features(f1, f2, d1, d2, I1, I2)\n",
    "    print(\"No. of features matched using individual SIFT descriptors: {}\".format(len(matchings)))\n",
    "    point_correspondences = []\n",
    "    pcAs = []\n",
    "    pcBs = []\n",
    "    for match in matchings:\n",
    "        x1, y1 = f1[match.queryIdx].pt\n",
    "        x2, y2 = f2[match.trainIdx].pt\n",
    "        point_correspondences.append([int(x1), int(y1), int(x2), int(y2)])\n",
    "    # Mapping point_correspondences according to depth_levels! \n",
    "    dic = defaultdict(list)\n",
    "    for i in point_correspondences:\n",
    "        if(helper == 1):\n",
    "            x_dash, y_dash = i[0], i[1]\n",
    "        else:\n",
    "            x_dash, y_dash = i[2], i[3]\n",
    "        dic[quantized[y_dash, x_dash]].append(i)\n",
    "    if(full):\n",
    "        threshold = 5\n",
    "        ### Without the use of inbuilt functions\n",
    "        if(in_built == False):\n",
    "            H_full, maxx = ransac_algo(point_correspondences,threshold,800)\n",
    "            print(\"Max Inliers\", len(maxx))\n",
    "        else:### Homography estimation using inbuilt functions\n",
    "            pcAs,pcBs = np.array(point_correspondences)[:,:2], np.array(point_correspondences)[:,2:]\n",
    "            H_full, status = cv2.findHomography( np.matrix(pcAs), np.matrix(pcBs), cv2.RANSAC, threshold)\n",
    "    Hs = []\n",
    "    for i in sorted(list(dic.keys())):\n",
    "        point_correspondences = dic[i]\n",
    "        threshold = 5\n",
    "        if(len(point_correspondences)>=4):\n",
    "            ### Without the use of inbuilt functions\n",
    "            if(in_built == False):\n",
    "                H, maxx = ransac_algo(point_correspondences,threshold,1000)\n",
    "            else:### Homography estimation using inbuilt functions\n",
    "                pcAs,pcBs = np.array(point_correspondences)[:,:2], np.array(point_correspondences)[:,2:]\n",
    "                H, status = cv2.findHomography( np.matrix(pcAs), np.matrix(pcBs), cv2.RANSAC, threshold)\n",
    "        else:\n",
    "            H = H_full\n",
    "        Hs.append(H)\n",
    "    if(full):\n",
    "        return Hs, H_full\n",
    "    return Hs"
   ]
  },
  {
   "cell_type": "markdown",
   "metadata": {},
   "source": [
    "### Loading the Datasets and Calculating all the requires Homography matricies for Stitching 4 images"
   ]
  },
  {
   "cell_type": "code",
   "execution_count": 8,
   "metadata": {},
   "outputs": [],
   "source": [
    "# I1 --> Right-most Image\n",
    "# I4 --> left-most Image\n",
    "\n",
    "# Dataset\n",
    "I4 = cv2.imread(f\"./RGBD dataset/{Image_Dataset_No}/im_0.jpg\")\n",
    "I3 = cv2.imread(f\"./RGBD dataset/{Image_Dataset_No}/im_1.jpg\")\n",
    "I2 = cv2.imread(f\"./RGBD dataset/{Image_Dataset_No}/im_2.jpg\")\n",
    "I1 = cv2.imread(f\"./RGBD dataset/{Image_Dataset_No}/im_3.jpg\")\n",
    "\n",
    "D4 = cv2.imread(f\"./RGBD dataset/{Image_Dataset_No}/depth_0.jpg\",0)\n",
    "D3 = cv2.imread(f\"./RGBD dataset/{Image_Dataset_No}/depth_1.jpg\",0)\n",
    "D2 = cv2.imread(f\"./RGBD dataset/{Image_Dataset_No}/depth_2.jpg\",0)\n",
    "D1 = cv2.imread(f\"./RGBD dataset/{Image_Dataset_No}/depth_3.jpg\",0)"
   ]
  },
  {
   "cell_type": "code",
   "execution_count": 9,
   "metadata": {},
   "outputs": [],
   "source": [
    "##### ALternate Binning Method ######\n",
    "# def binning(x, nbin):\n",
    "#     nlen = len(x.flatten())\n",
    "#     bins = list(np.interp(np.linspace(0, nlen, nbin + 1), np.arange(nlen),np.sort(x.flatten())))\n",
    "#     print(bins)\n",
    "#     for i in range(len(bins)-1):\n",
    "#         x = np.where((x>bins[i]) & (x<=bins[i+1]), i, x)\n",
    "#     print(np.unique(x,return_counts=1))\n",
    "#     return x"
   ]
  },
  {
   "cell_type": "code",
   "execution_count": 10,
   "metadata": {},
   "outputs": [],
   "source": [
    "from PIL import Image\n",
    "## PIL based binning: Uses Median Cut algorithm for better quantization!\n",
    "def binning(X, bins):\n",
    "    quantized = (np.array(Image.fromarray(X.copy()).quantize(bins)))\n",
    "    print(np.unique(quantized, return_counts = True))\n",
    "    return quantized"
   ]
  },
  {
   "cell_type": "code",
   "execution_count": 11,
   "metadata": {
    "scrolled": true
   },
   "outputs": [
    {
     "name": "stdout",
     "output_type": "stream",
     "text": [
      "(array([ 0,  1,  2,  3,  4,  5,  6,  7,  8,  9, 10], dtype=uint8), array([14206, 11671, 27682, 20758, 16710, 25538, 10412, 23669, 22371,\n",
      "       14354, 43029], dtype=int64))\n",
      "(array([ 0,  1,  2,  3,  4,  5,  6,  7,  8,  9, 10], dtype=uint8), array([25504, 33629, 11077, 20363, 26078, 18392, 22136,  9764, 21678,\n",
      "       24172, 17607], dtype=int64))\n",
      "(array([ 0,  1,  2,  3,  4,  5,  6,  7,  8,  9, 10], dtype=uint8), array([10427, 23420, 16523, 23244, 18633, 23555, 13984, 21359, 29338,\n",
      "       24080, 25837], dtype=int64))\n",
      "(array([ 0,  1,  2,  3,  4,  5,  6,  7,  8,  9, 10], dtype=uint8), array([ 6338, 26095, 24825, 14871, 19511, 25120, 18208, 20492, 22139,\n",
      "       32595, 20206], dtype=int64))\n"
     ]
    }
   ],
   "source": [
    "# Depth_Quantization (Check the no. of pixels in each bins [Uniform results])\n",
    "quantized_D1 = binning(D1, depth_levels)\n",
    "quantized_D2 = binning(D2, depth_levels)\n",
    "quantized_D3 = binning(D3, depth_levels)\n",
    "quantized_D4 = binning(D4, depth_levels)"
   ]
  },
  {
   "cell_type": "code",
   "execution_count": 12,
   "metadata": {},
   "outputs": [
    {
     "data": {
      "text/plain": [
       "<matplotlib.image.AxesImage at 0x24e087d8af0>"
      ]
     },
     "execution_count": 12,
     "metadata": {},
     "output_type": "execute_result"
    },
    {
     "data": {
      "image/png": "[encoded data removed]",
      "text/plain": [
       "<Figure size 432x288 with 1 Axes>"
      ]
     },
     "metadata": {
      "needs_background": "light"
     },
     "output_type": "display_data"
    }
   ],
   "source": [
    "plt.imshow(quantized_D1)"
   ]
  },
  {
   "cell_type": "code",
   "execution_count": 11,
   "metadata": {},
   "outputs": [],
   "source": [
    "# Image according to only the depth-levels\n",
    "binned_I1 = [np.where(np.stack((quantized_D1,)*3, axis=-1)==i, I1, 0) for i in range(depth_levels)]\n",
    "binned_I2 = [np.where(np.stack((quantized_D2,)*3, axis=-1)==i, I2, 0) for i in range(depth_levels)]\n",
    "binned_I3 = [np.where(np.stack((quantized_D3,)*3, axis=-1)==i, I3, 0) for i in range(depth_levels)]\n",
    "binned_I4 = [np.where(np.stack((quantized_D4,)*3, axis=-1)==i, I4, 0) for i in range(depth_levels)]"
   ]
  },
  {
   "cell_type": "code",
   "execution_count": 13,
   "metadata": {},
   "outputs": [
    {
     "data": {
      "text/plain": [
       "<matplotlib.image.AxesImage at 0x17e0d5a61c0>"
      ]
     },
     "execution_count": 13,
     "metadata": {},
     "output_type": "execute_result"
    },
    {
     "data": {
      "image/png": "[encoded data removed]",
      "text/plain": [
       "<Figure size 432x288 with 1 Axes>"
      ]
     },
     "metadata": {
      "needs_background": "light"
     },
     "output_type": "display_data"
    }
   ],
   "source": [
    "# Visualize depth-level 2 of the image here:\n",
    "plt.imshow(binned_I4[2])"
   ]
  },
  {
   "cell_type": "code",
   "execution_count": null,
   "metadata": {},
   "outputs": [],
   "source": [
    "# The  main function here does the feature detection, extraction and returns a generated homography matrix\n",
    "# For stitching 4 images we use the following homographies to stitch the images and build the panaroma!\n",
    "H_23,H_23_full = main(I2,I3, in_built, quantized_D2, 1, True) # Homography of I2 with respect to I3\n",
    "H_12,H_12_full = main(I1,I2, in_built, quantized_D1, 0,True) # Homography of I1 with respect to I2\n",
    "H_34,H_34_full = main(I3,I4, in_built, quantized_D4, 0, True) # Homography of I3 with respect to I4"
   ]
  },
  {
   "cell_type": "code",
   "execution_count": 15,
   "metadata": {},
   "outputs": [
    {
     "data": {
      "text/plain": [
       "(11, 11, 11)"
      ]
     },
     "execution_count": 15,
     "metadata": {},
     "output_type": "execute_result"
    }
   ],
   "source": [
    "len(H_23),len(H_12),len(H_34)"
   ]
  },
  {
   "cell_type": "markdown",
   "metadata": {},
   "source": [
    "### WARPING:\n",
    "#### Process:\n",
    "- Create a template for the final stitched image\n",
    "- Set the Base image into the template [Using the 2nd image of the Panaroma as the base]\n",
    "- Generate the warp of the left-most image\n",
    "- Stitch the warped left-most image to the template, meanwhile using the Pyramid blending for better results "
   ]
  },
  {
   "cell_type": "code",
   "execution_count": 16,
   "metadata": {},
   "outputs": [],
   "source": [
    "# Template frame Sizes\n",
    "h_max = (I1.shape[0] + I2.shape[0] + I3.shape[0] + I4.shape[0])\n",
    "w_max = (I1.shape[1] + I2.shape[1] + I3.shape[1] + I4.shape[1])*2\n",
    "stitched_image = np.zeros((h_max,w_max,3)).astype(float)\n",
    "# Offset for the Base Image\n",
    "h_offset = h_max//2 - I3.shape[0]//2\n",
    "w_offset = w_max//3 - I3.shape[1]//2\n",
    "## Base Image set in the to be stitched_image\n",
    "stitched_image[h_offset : h_offset+I3.shape[0], w_offset : w_offset+I3.shape[1], :] = I3"
   ]
  },
  {
   "cell_type": "code",
   "execution_count": 17,
   "metadata": {
    "scrolled": true
   },
   "outputs": [
    {
     "data": {
      "text/plain": [
       "<matplotlib.image.AxesImage at 0x22ba8e93250>"
      ]
     },
     "execution_count": 17,
     "metadata": {},
     "output_type": "execute_result"
    },
    {
     "data": {
      "image/png": "[encoded data removed]",
      "text/plain": [
       "<Figure size 432x288 with 1 Axes>"
      ]
     },
     "metadata": {
      "needs_background": "light"
     },
     "output_type": "display_data"
    }
   ],
   "source": [
    "plt.imshow(stitched_image.astype('uint8'))"
   ]
  },
  {
   "cell_type": "code",
   "execution_count": 18,
   "metadata": {},
   "outputs": [
    {
     "name": "stderr",
     "output_type": "stream",
     "text": [
      "100%|████████████████████████████████████████████████████████████████████████████████| 836/836 [00:32<00:00, 25.34it/s]\n",
      "100%|████████████████████████████████████████████████████████████████████████████████| 369/369 [00:06<00:00, 59.62it/s]\n",
      "100%|████████████████████████████████████████████████████████████████████████████████| 310/310 [00:05<00:00, 60.39it/s]\n",
      "100%|████████████████████████████████████████████████████████████████████████████████| 460/460 [00:07<00:00, 58.09it/s]\n",
      "100%|████████████████████████████████████████████████████████████████████████████████| 465/465 [00:08<00:00, 55.51it/s]\n",
      "100%|████████████████████████████████████████████████████████████████████████████████| 439/439 [00:07<00:00, 56.48it/s]\n",
      "100%|████████████████████████████████████████████████████████████████████████████████| 443/443 [00:07<00:00, 56.78it/s]\n",
      "100%|████████████████████████████████████████████████████████████████████████████████| 456/456 [00:09<00:00, 47.82it/s]\n",
      "100%|████████████████████████████████████████████████████████████████████████████████| 424/424 [00:08<00:00, 51.14it/s]\n",
      "100%|████████████████████████████████████████████████████████████████████████████████| 444/444 [00:10<00:00, 44.06it/s]\n",
      "100%|████████████████████████████████████████████████████████████████████████████████| 460/460 [00:09<00:00, 47.34it/s]\n"
     ]
    },
    {
     "data": {
      "text/plain": [
       "True"
      ]
     },
     "execution_count": 18,
     "metadata": {},
     "output_type": "execute_result"
    }
   ],
   "source": [
    "# Stitching I4 to I3: [Leftmost Image to the base image]\n",
    "\n",
    "# #### Method is to first calculate the expected bounding box of the Warped I4 image and inverse map each pixel \n",
    "# #___ of the bounding box to an tranformed pixel in I4 image. This ensures regularity in the Output Image.\n",
    "\n",
    "# Bounding box limits calculation\n",
    "for i in range(depth_levels):\n",
    "    bounds_I4 = [ [0,0,1], [0,I4.shape[0]-1,1], [I4.shape[1]-1,0,1], [I4.shape[1]-1,I4.shape[0]-1,1] ]\n",
    "    Xs, Ys = [], []\n",
    "    H_inv = np.linalg.inv(H_34[i])# for i in H_34\n",
    "    for point in bounds_I4:\n",
    "        v_dash = H_inv.dot(point) # Warping of the boundary points\n",
    "        v_dash /= v_dash[2]\n",
    "        x_dash, y_dash = int(v_dash[0]), int(v_dash[1])\n",
    "        Xs.append(x_dash)\n",
    "        Ys.append(y_dash)\n",
    "\n",
    "    # Find reverse mapping for all pixels lying in Min to Max limits:\n",
    "    width_limits = range(max(min(Xs),-w_offset), min(max(Xs)+1,w_max-w_offset))\n",
    "    height_limits = range(max(min(Ys), -h_offset), min(max(Ys)+1,h_max-h_offset))\n",
    "# print(height_limits,width_limits)\n",
    "# for i in range(depth_levels):\n",
    "    I4_dash = binned_I4[i].copy()\n",
    "    for y in tqdm(height_limits):\n",
    "        for x in width_limits:\n",
    "            v_dash = H_34[i].dot([x, y, 1]) # Reverse map to Image I4\n",
    "            v_dash = v_dash/v_dash[2]\n",
    "            x_dash, y_dash = int(v_dash[0]), int(v_dash[1])\n",
    "            # Important Condition to check: the inverse-mapped pixel should lie in I4:\n",
    "            if(x_dash >= 0 and x_dash < I4_dash.shape[1] and y_dash >= 0 and y_dash < I4_dash.shape[0] ):\n",
    "                if(np.sum(I4_dash[y_dash,x_dash,:])>0 ): #and stitched_image[y + h_offset, x + w_offset,0]==0\n",
    "                    stitched_image[y + h_offset, x + w_offset,:] = I4_dash[y_dash,x_dash,:]\n",
    "cv2.imwrite(f\"./results/{Image_Dataset_No}/stitch{flag}_1_2_{depth_levels}.jpg\", stitched_image)"
   ]
  },
  {
   "cell_type": "code",
   "execution_count": 19,
   "metadata": {},
   "outputs": [
    {
     "name": "stderr",
     "output_type": "stream",
     "text": [
      "100%|████████████████████████████████████████████████████████████████████████████████| 210/210 [00:03<00:00, 56.43it/s]\n",
      "100%|███████████████████████████████████████████████████████████████████████████████████| 3/3 [00:00<00:00, 990.31it/s]\n",
      "100%|█████████████████████████████████████████████████████████████████████████████████| 64/64 [00:00<00:00, 682.64it/s]\n",
      "100%|████████████████████████████████████████████████████████████████████████████████| 449/449 [00:10<00:00, 41.20it/s]\n",
      "100%|████████████████████████████████████████████████████████████████████████████████| 422/422 [00:09<00:00, 46.14it/s]\n",
      "100%|█████████████████████████████████████████████████████████████████████████████████| 18/18 [00:00<00:00, 563.38it/s]\n",
      "100%|████████████████████████████████████████████████████████████████████████████████| 438/438 [00:08<00:00, 52.78it/s]\n",
      "100%|████████████████████████████████████████████████████████████████████████████████| 434/434 [00:09<00:00, 46.54it/s]\n",
      "100%|████████████████████████████████████████████████████████████████████████████████| 420/420 [00:08<00:00, 49.32it/s]\n",
      "100%|████████████████████████████████████████████████████████████████████████████████| 415/415 [00:08<00:00, 49.44it/s]\n",
      "100%|████████████████████████████████████████████████████████████████████████████████| 383/383 [00:07<00:00, 48.70it/s]\n"
     ]
    },
    {
     "data": {
      "text/plain": [
       "True"
      ]
     },
     "execution_count": 19,
     "metadata": {},
     "output_type": "execute_result"
    }
   ],
   "source": [
    "# Stitching I2 to I3: [3rd Right Image to the base image]\n",
    "#### Method is to first calculate the expected bounding box of the Warped I2 image and inverse map each pixel \n",
    "#___ of the bounding box to an tranformed pixel in I2 image. This ensures regularity in the Output Image.\n",
    "\n",
    "# Bounding box limits calculation\n",
    "for i in range(depth_levels):\n",
    "    bounds_I2 = [ [0,0,1], [0,I2.shape[0]-1,1], [I2.shape[1]-1,0,1], [I2.shape[1]-1,I2.shape[0]-1,1] ]\n",
    "    Xs, Ys = [], []\n",
    "    for point in bounds_I2:\n",
    "        v_dash = H_23[i].dot(point) # Warping of the boundary points\n",
    "        v_dash /= v_dash[2]\n",
    "        x_dash, y_dash = int(v_dash[0]), int(v_dash[1])\n",
    "        Xs.append(x_dash)\n",
    "        Ys.append(y_dash)\n",
    "    # Find reverse mapping for all pixels lying in Min to Max limits:\n",
    "    width_limits = range(max(min(Xs),-w_offset), min(max(Xs)+1,w_max-w_offset))\n",
    "    height_limits = range(max(min(Ys), -h_offset), min(max(Ys)+1,h_max-h_offset))\n",
    "    H_inv = np.linalg.inv(H_23[i])\n",
    "# for i in range(depth_levels):\n",
    "    I2_dash = binned_I2[i].copy()\n",
    "    for y in tqdm(height_limits):\n",
    "        for x in width_limits:\n",
    "            v_dash = H_inv.dot([x, y, 1]) # Reverse map to Image I2\n",
    "            v_dash = v_dash/v_dash[2]\n",
    "            x_dash, y_dash = int(v_dash[0]), int(v_dash[1])\n",
    "            # Important Condition to check: the inverse-mapped pixel should lie in I2:\n",
    "            if(x_dash >= 0 and x_dash < I2_dash.shape[1] and y_dash >= 0 and y_dash < I2_dash.shape[0] ):\n",
    "                if(np.sum(I2_dash[y_dash,x_dash,:])>0):\n",
    "                    stitched_image[y + h_offset, x + w_offset,:] = I2_dash[y_dash,x_dash,:]\n",
    "cv2.imwrite(f\"./results/{Image_Dataset_No}/stitch{flag}_1_2_3_{depth_levels}.jpg\", stitched_image)"
   ]
  },
  {
   "cell_type": "code",
   "execution_count": 20,
   "metadata": {},
   "outputs": [
    {
     "name": "stderr",
     "output_type": "stream",
     "text": [
      "100%|████████████████████████████████████████████████████████████████████████████████| 457/457 [00:11<00:00, 41.50it/s]\n",
      "100%|████████████████████████████████████████████████████████████████████████████████| 531/531 [00:11<00:00, 45.48it/s]\n",
      "100%|████████████████████████████████████████████████████████████████████████████████| 552/552 [00:12<00:00, 45.53it/s]\n",
      "100%|████████████████████████████████████████████████████████████████████████████████| 451/451 [00:08<00:00, 50.87it/s]\n",
      "100%|████████████████████████████████████████████████████████████████████████████████| 438/438 [00:08<00:00, 48.73it/s]\n",
      "100%|████████████████████████████████████████████████████████████████████████████████| 453/453 [00:09<00:00, 49.30it/s]\n",
      "100%|████████████████████████████████████████████████████████████████████████████████| 434/434 [00:09<00:00, 47.74it/s]\n",
      "100%|████████████████████████████████████████████████████████████████████████████████| 394/394 [00:07<00:00, 51.18it/s]\n",
      "100%|████████████████████████████████████████████████████████████████████████████████| 499/499 [00:10<00:00, 46.99it/s]\n",
      "100%|████████████████████████████████████████████████████████████████████████████████| 409/409 [00:08<00:00, 49.07it/s]\n",
      "100%|████████████████████████████████████████████████████████████████████████████████| 459/459 [00:09<00:00, 46.62it/s]\n"
     ]
    },
    {
     "data": {
      "text/plain": [
       "True"
      ]
     },
     "execution_count": 20,
     "metadata": {},
     "output_type": "execute_result"
    }
   ],
   "source": [
    "# Stitching I1 to I3: [Farthest image to the base image]\n",
    "#### Method is to first calculate the expected bounding box of the Warped I1 image and inverse map each pixel \n",
    "#___ of the bounding box to an tranformed pixel in I1 image. This ensures regularity in the Output Image.\n",
    "\n",
    "# Bounding box limits calculation\n",
    "for i in range(depth_levels):\n",
    "    bounds_I1 = [ [0,0,1], [0,I1.shape[0]-1,1], [I1.shape[1]-1,0,1], [I1.shape[1]-1,I1.shape[0]-1,1] ]\n",
    "    Xs, Ys = [], []\n",
    "    for point in bounds_I1:\n",
    "        v_dash = ((H_12[i]).dot(H_23_full)).dot(point) # Warping of the boundary points\n",
    "        v_dash = v_dash/v_dash[2]\n",
    "        x_dash, y_dash = int(v_dash[0]), int(v_dash[1])\n",
    "        Xs.append(x_dash)\n",
    "        Ys.append(y_dash)\n",
    "    # Find reverse mapping for all pixels lying in Min to Max limits:\n",
    "    width_limits = range(max(min(Xs),-w_offset), min(max(Xs)+1,w_max-w_offset))\n",
    "    height_limits = range(max(min(Ys), -h_offset), min(max(Ys)+1,h_max-h_offset))\n",
    "    H_inv = np.linalg.inv((H_12[i]).dot(H_23_full))\n",
    "    I1_dash = binned_I1[i].copy()\n",
    "    for y in tqdm(height_limits):\n",
    "        for x in width_limits:\n",
    "            v_dash = H_inv.dot([x, y, 1]) # Reverse map to Image I1\n",
    "            v_dash = v_dash/v_dash[2]\n",
    "            x_dash, y_dash = int(v_dash[0]), int(v_dash[1])\n",
    "            # Important Condition to check: the inverse-mapped pixel should lie in I1:\n",
    "            if(x_dash >= 0 and x_dash < I1_dash.shape[1] and y_dash >= 0 and y_dash < I1_dash.shape[0] and x + w_offset < w_max and y + h_offset < h_max):\n",
    "                if(np.sum(I1_dash[y_dash,x_dash,:])>0):\n",
    "                    stitched_image[y + h_offset, x + w_offset,:] = I1_dash[y_dash,x_dash,:]\n",
    "cv2.imwrite(f\"./results/{Image_Dataset_No}/stitch{flag}_1_2_3_4_{depth_levels}.jpg\", stitched_image)"
   ]
  }
 ],
 "metadata": {
  "colab": {
   "collapsed_sections": [],
   "name": "18110062_3D-CV_Assignment_1.ipynb",
   "provenance": []
  },
  "kernelspec": {
   "display_name": "Python 3",
   "language": "python",
   "name": "python3"
  },
  "language_info": {
   "codemirror_mode": {
    "name": "ipython",
    "version": 3
   },
   "file_extension": ".py",
   "mimetype": "text/x-python",
   "name": "python",
   "nbconvert_exporter": "python",
   "pygments_lexer": "ipython3",
   "version": "3.8.5"
  }
 },
 "nbformat": 4,
 "nbformat_minor": 1
}
